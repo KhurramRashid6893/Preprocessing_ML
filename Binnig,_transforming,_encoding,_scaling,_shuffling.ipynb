{
  "nbformat": 4,
  "nbformat_minor": 0,
  "metadata": {
    "colab": {
      "provenance": []
    },
    "kernelspec": {
      "name": "python3",
      "display_name": "Python 3"
    },
    "language_info": {
      "name": "python"
    }
  },
  "cells": [
    {
      "cell_type": "markdown",
      "source": [
        "# **Binning (or Discretization)**\n",
        "\n",
        "\n",
        "🔹 Meaning:\n",
        "\n",
        "Binning means converting continuous (numeric) data into discrete bins or categories.\n",
        "\n",
        "It’s useful when small variations in numbers don’t matter much, or when you want to make models simpler."
      ],
      "metadata": {
        "id": "81mTZpXmDaq2"
      }
    },
    {
      "cell_type": "code",
      "execution_count": null,
      "metadata": {
        "id": "JbMtEsRPDZdQ"
      },
      "outputs": [],
      "source": [
        "import pandas as pd\n",
        "ages = [18, 22, 30, 40, 55]\n",
        "bins = [0, 20, 40, 100]\n",
        "labels = ['Teen', 'Adult', 'Senior']\n",
        "pd.cut(ages, bins=bins, labels=labels)\n"
      ]
    },
    {
      "cell_type": "markdown",
      "source": [
        "# **2. Transformation**\n",
        "\n",
        "🔹 Meaning:\n",
        "\n",
        "Changing the scale or distribution of a feature to make it more suitable for the model."
      ],
      "metadata": {
        "id": "MNCGxCChDlg9"
      }
    },
    {
      "cell_type": "code",
      "source": [
        "import pandas as pd\n",
        "import numpy as np\n",
        "\n",
        "# Sample data\n",
        "data = pd.DataFrame({\n",
        "    'income': [1000, 3000, 10000, 50000, 100000],\n",
        "    'population': [100, 400, 1600, 2500, 4900]\n",
        "})\n",
        "\n",
        "print(data)\n"
      ],
      "metadata": {
        "colab": {
          "base_uri": "https://localhost:8080/"
        },
        "id": "seFD76oDDnZD",
        "outputId": "e7be8068-771e-4994-fbab-9e29125bfbdf"
      },
      "execution_count": 11,
      "outputs": [
        {
          "output_type": "stream",
          "name": "stdout",
          "text": [
            "   income  population\n",
            "0    1000         100\n",
            "1    3000         400\n",
            "2   10000        1600\n",
            "3   50000        2500\n",
            "4  100000        4900\n"
          ]
        }
      ]
    },
    {
      "cell_type": "code",
      "source": [
        "#Log Transformation\n",
        "data['income_log'] = np.log(data['income'])\n",
        "print(data[['income', 'income_log']])\n"
      ],
      "metadata": {
        "colab": {
          "base_uri": "https://localhost:8080/"
        },
        "id": "NYWRUX0BE80i",
        "outputId": "76053ba6-fc13-437e-f289-2112d0d7cdc7"
      },
      "execution_count": 12,
      "outputs": [
        {
          "output_type": "stream",
          "name": "stdout",
          "text": [
            "   income  income_log\n",
            "0    1000    6.907755\n",
            "1    3000    8.006368\n",
            "2   10000    9.210340\n",
            "3   50000   10.819778\n",
            "4  100000   11.512925\n"
          ]
        }
      ]
    },
    {
      "cell_type": "code",
      "source": [
        "#2️⃣ Square Root Transformation\n",
        "data['population_sqrt'] = np.sqrt(data['population'])\n",
        "print(data[['population', 'population_sqrt']])\n"
      ],
      "metadata": {
        "colab": {
          "base_uri": "https://localhost:8080/"
        },
        "id": "FSfLpyMvFBW5",
        "outputId": "981f054f-b6ef-483e-8f8a-de3d6efafa31"
      },
      "execution_count": 13,
      "outputs": [
        {
          "output_type": "stream",
          "name": "stdout",
          "text": [
            "   population  population_sqrt\n",
            "0         100             10.0\n",
            "1         400             20.0\n",
            "2        1600             40.0\n",
            "3        2500             50.0\n",
            "4        4900             70.0\n"
          ]
        }
      ]
    },
    {
      "cell_type": "code",
      "source": [
        "#3️⃣ Box-Cox / Yeo-Johnson Transformation\n",
        "from sklearn.preprocessing import PowerTransformer\n",
        "\n",
        "# Box-Cox (positive only)\n",
        "pt_boxcox = PowerTransformer(method='box-cox')\n",
        "data['income_boxcox'] = pt_boxcox.fit_transform(data[['income']])\n",
        "\n",
        "# Yeo-Johnson (handles zero/negative)\n",
        "pt_yeo = PowerTransformer(method='yeo-johnson')\n",
        "data['population_yeojohnson'] = pt_yeo.fit_transform(data[['population']])\n",
        "\n",
        "print(data[['income_boxcox', 'population_yeojohnson']])\n"
      ],
      "metadata": {
        "colab": {
          "base_uri": "https://localhost:8080/"
        },
        "id": "y-X18_ULFGfV",
        "outputId": "67a500ab-43c8-4524-9ecc-80f30e808963"
      },
      "execution_count": 14,
      "outputs": [
        {
          "output_type": "stream",
          "name": "stdout",
          "text": [
            "   income_boxcox  population_yeojohnson\n",
            "0      -1.378631              -1.461072\n",
            "1      -0.759936              -0.763382\n",
            "2      -0.065337               0.235771\n",
            "3       0.890994               0.641144\n",
            "4       1.312910               1.347539\n"
          ]
        }
      ]
    },
    {
      "cell_type": "code",
      "source": [
        "#4️⃣ Normalization\n",
        "from sklearn.preprocessing import MinMaxScaler\n",
        "\n",
        "scaler = MinMaxScaler()\n",
        "data[['income_norm', 'population_norm']] = scaler.fit_transform(data[['income', 'population']])\n",
        "\n",
        "print(data[['income_norm', 'population_norm']])\n"
      ],
      "metadata": {
        "colab": {
          "base_uri": "https://localhost:8080/"
        },
        "id": "hFm-Uc3xFNOj",
        "outputId": "2ff636e8-6fce-4bdf-fcd2-71e24d634ef7"
      },
      "execution_count": 15,
      "outputs": [
        {
          "output_type": "stream",
          "name": "stdout",
          "text": [
            "   income_norm  population_norm\n",
            "0     0.000000           0.0000\n",
            "1     0.020202           0.0625\n",
            "2     0.090909           0.3125\n",
            "3     0.494949           0.5000\n",
            "4     1.000000           1.0000\n"
          ]
        }
      ]
    },
    {
      "cell_type": "markdown",
      "source": [
        "# **3. Encoding**\n",
        "\n",
        "🔹 Meaning:\n",
        "\n",
        "Encoding converts categorical (text) data into numeric form, because ML models work only with numbers."
      ],
      "metadata": {
        "id": "8x0ERBoxDrSm"
      }
    },
    {
      "cell_type": "code",
      "source": [
        "import pandas as pd\n",
        "\n",
        "data = pd.DataFrame({\n",
        "    'Color': ['Red', 'Blue', 'Green', 'Red', 'Blue', 'Green', 'Red'],\n",
        "    'Quality': ['Low', 'Medium', 'High', 'Low', 'High', 'Medium', 'High'],\n",
        "    'Target': [10, 20, 15, 5, 25, 30, 20]  # We'll use this for target encoding\n",
        "})\n",
        "\n",
        "print(data)\n"
      ],
      "metadata": {
        "colab": {
          "base_uri": "https://localhost:8080/"
        },
        "id": "N9plDD3VEF0h",
        "outputId": "4a21d734-76a9-4252-e216-5e3cd5bd52c9"
      },
      "execution_count": 5,
      "outputs": [
        {
          "output_type": "stream",
          "name": "stdout",
          "text": [
            "   Color Quality  Target\n",
            "0    Red     Low      10\n",
            "1   Blue  Medium      20\n",
            "2  Green    High      15\n",
            "3    Red     Low       5\n",
            "4   Blue    High      25\n",
            "5  Green  Medium      30\n",
            "6    Red    High      20\n"
          ]
        }
      ]
    },
    {
      "cell_type": "code",
      "source": [
        "#1, LabelEncoding\n",
        "from sklearn.preprocessing import LabelEncoder\n",
        "\n",
        "# Encode Quality as ordered labels\n",
        "order = {'Low': 1, 'Medium': 2, 'High': 3}\n",
        "data['Quality_LabelEncoded'] = data['Quality'].map(order)\n",
        "\n",
        "print(data[['Quality', 'Quality_LabelEncoded']])\n"
      ],
      "metadata": {
        "colab": {
          "base_uri": "https://localhost:8080/"
        },
        "id": "Df_HOsx4DueV",
        "outputId": "b63cfb05-d6e9-4149-edad-401ca4f2a636"
      },
      "execution_count": 6,
      "outputs": [
        {
          "output_type": "stream",
          "name": "stdout",
          "text": [
            "  Quality  Quality_LabelEncoded\n",
            "0     Low                     1\n",
            "1  Medium                     2\n",
            "2    High                     3\n",
            "3     Low                     1\n",
            "4    High                     3\n",
            "5  Medium                     2\n",
            "6    High                     3\n"
          ]
        }
      ]
    },
    {
      "cell_type": "code",
      "source": [
        "#2, One-Hot Encoding\n",
        "\n",
        "from sklearn.preprocessing import OneHotEncoder\n",
        "\n",
        "encoder = OneHotEncoder(sparse_output=False)\n",
        "encoded = encoder.fit_transform(data[['Color']])\n",
        "\n",
        "# Convert encoded array to DataFrame\n",
        "encoded_df = pd.DataFrame(encoded, columns=encoder.get_feature_names_out(['Color']))\n",
        "\n",
        "# Join with main DataFrame\n",
        "data_onehot = pd.concat([data, encoded_df], axis=1)\n",
        "print(data_onehot)\n"
      ],
      "metadata": {
        "colab": {
          "base_uri": "https://localhost:8080/"
        },
        "id": "5R2VT5E8EO9e",
        "outputId": "6ec01b2d-5584-40b6-8145-8ce6cdaa9545"
      },
      "execution_count": 7,
      "outputs": [
        {
          "output_type": "stream",
          "name": "stdout",
          "text": [
            "   Color Quality  Target  Quality_LabelEncoded  Color_Blue  Color_Green  \\\n",
            "0    Red     Low      10                     1         0.0          0.0   \n",
            "1   Blue  Medium      20                     2         1.0          0.0   \n",
            "2  Green    High      15                     3         0.0          1.0   \n",
            "3    Red     Low       5                     1         0.0          0.0   \n",
            "4   Blue    High      25                     3         1.0          0.0   \n",
            "5  Green  Medium      30                     2         0.0          1.0   \n",
            "6    Red    High      20                     3         0.0          0.0   \n",
            "\n",
            "   Color_Red  \n",
            "0        1.0  \n",
            "1        0.0  \n",
            "2        0.0  \n",
            "3        1.0  \n",
            "4        0.0  \n",
            "5        0.0  \n",
            "6        1.0  \n"
          ]
        }
      ]
    },
    {
      "cell_type": "code",
      "source": [
        "#3, Binary Encoding / Target Encoding\n",
        "# Compute mean target per category\n",
        "target_mean = data.groupby('Color')['Target'].mean()\n",
        "data['Color_TargetEncoded'] = data['Color'].map(target_mean)\n",
        "\n",
        "print(target_mean)\n",
        "print(data[['Color', 'Color_TargetEncoded']])\n"
      ],
      "metadata": {
        "colab": {
          "base_uri": "https://localhost:8080/"
        },
        "id": "_IfsD-C9EVEP",
        "outputId": "2721eae2-e86d-4d3b-9709-73b58a89b83b"
      },
      "execution_count": 8,
      "outputs": [
        {
          "output_type": "stream",
          "name": "stdout",
          "text": [
            "Color\n",
            "Blue     22.500000\n",
            "Green    22.500000\n",
            "Red      11.666667\n",
            "Name: Target, dtype: float64\n",
            "   Color  Color_TargetEncoded\n",
            "0    Red            11.666667\n",
            "1   Blue            22.500000\n",
            "2  Green            22.500000\n",
            "3    Red            11.666667\n",
            "4   Blue            22.500000\n",
            "5  Green            22.500000\n",
            "6    Red            11.666667\n"
          ]
        }
      ]
    },
    {
      "cell_type": "code",
      "source": [
        "pip install category_encoders\n"
      ],
      "metadata": {
        "colab": {
          "base_uri": "https://localhost:8080/"
        },
        "id": "5X0CCn48EiUq",
        "outputId": "5e13f17e-29ad-4566-f91e-b155df0b7a47"
      },
      "execution_count": 9,
      "outputs": [
        {
          "output_type": "stream",
          "name": "stdout",
          "text": [
            "Collecting category_encoders\n",
            "  Downloading category_encoders-2.8.1-py3-none-any.whl.metadata (7.9 kB)\n",
            "Requirement already satisfied: numpy>=1.14.0 in /usr/local/lib/python3.12/dist-packages (from category_encoders) (2.0.2)\n",
            "Requirement already satisfied: pandas>=1.0.5 in /usr/local/lib/python3.12/dist-packages (from category_encoders) (2.2.2)\n",
            "Requirement already satisfied: patsy>=0.5.1 in /usr/local/lib/python3.12/dist-packages (from category_encoders) (1.0.1)\n",
            "Requirement already satisfied: scikit-learn>=1.6.0 in /usr/local/lib/python3.12/dist-packages (from category_encoders) (1.6.1)\n",
            "Requirement already satisfied: scipy>=1.0.0 in /usr/local/lib/python3.12/dist-packages (from category_encoders) (1.16.2)\n",
            "Requirement already satisfied: statsmodels>=0.9.0 in /usr/local/lib/python3.12/dist-packages (from category_encoders) (0.14.5)\n",
            "Requirement already satisfied: python-dateutil>=2.8.2 in /usr/local/lib/python3.12/dist-packages (from pandas>=1.0.5->category_encoders) (2.9.0.post0)\n",
            "Requirement already satisfied: pytz>=2020.1 in /usr/local/lib/python3.12/dist-packages (from pandas>=1.0.5->category_encoders) (2025.2)\n",
            "Requirement already satisfied: tzdata>=2022.7 in /usr/local/lib/python3.12/dist-packages (from pandas>=1.0.5->category_encoders) (2025.2)\n",
            "Requirement already satisfied: joblib>=1.2.0 in /usr/local/lib/python3.12/dist-packages (from scikit-learn>=1.6.0->category_encoders) (1.5.2)\n",
            "Requirement already satisfied: threadpoolctl>=3.1.0 in /usr/local/lib/python3.12/dist-packages (from scikit-learn>=1.6.0->category_encoders) (3.6.0)\n",
            "Requirement already satisfied: packaging>=21.3 in /usr/local/lib/python3.12/dist-packages (from statsmodels>=0.9.0->category_encoders) (25.0)\n",
            "Requirement already satisfied: six>=1.5 in /usr/local/lib/python3.12/dist-packages (from python-dateutil>=2.8.2->pandas>=1.0.5->category_encoders) (1.17.0)\n",
            "Downloading category_encoders-2.8.1-py3-none-any.whl (85 kB)\n",
            "\u001b[2K   \u001b[90m━━━━━━━━━━━━━━━━━━━━━━━━━━━━━━━━━━━━━━━━\u001b[0m \u001b[32m85.7/85.7 kB\u001b[0m \u001b[31m3.5 MB/s\u001b[0m eta \u001b[36m0:00:00\u001b[0m\n",
            "\u001b[?25hInstalling collected packages: category_encoders\n",
            "Successfully installed category_encoders-2.8.1\n"
          ]
        }
      ]
    },
    {
      "cell_type": "code",
      "source": [
        "#4️⃣ Binary Encoding\n",
        "import pandas as pd\n",
        "import category_encoders as ce\n",
        "\n",
        "# Sample data\n",
        "data = pd.DataFrame({\n",
        "    'Color': ['Red', 'Blue', 'Green', 'Yellow', 'Blue', 'Green', 'Red']\n",
        "})\n",
        "\n",
        "# Apply Binary Encoding\n",
        "encoder = ce.BinaryEncoder(cols=['Color'])\n",
        "data_encoded = encoder.fit_transform(data)\n",
        "\n",
        "print(data_encoded)\n"
      ],
      "metadata": {
        "colab": {
          "base_uri": "https://localhost:8080/"
        },
        "id": "w24DKZ6TEdWp",
        "outputId": "c5e7ba8f-2551-49ac-aaca-a62cb56bfd41"
      },
      "execution_count": 10,
      "outputs": [
        {
          "output_type": "stream",
          "name": "stdout",
          "text": [
            "   Color_0  Color_1  Color_2\n",
            "0        0        0        1\n",
            "1        0        1        0\n",
            "2        0        1        1\n",
            "3        1        0        0\n",
            "4        0        1        0\n",
            "5        0        1        1\n",
            "6        0        0        1\n"
          ]
        }
      ]
    },
    {
      "cell_type": "markdown",
      "source": [
        "# **4. Scaling**\n",
        "\n",
        "🔹 Meaning:\n",
        "\n",
        "Scaling ensures all features are on a similar range so that one feature doesn’t dominate others due to larger numerical values."
      ],
      "metadata": {
        "id": "NI6cxTzbDwcU"
      }
    },
    {
      "cell_type": "code",
      "source": [
        "from sklearn.preprocessing import StandardScaler\n",
        "scaler = StandardScaler()\n",
        "X_scaled = scaler.fit_transform([[1, 1000], [2, 2000], [3, 3000]])\n",
        "X_scaled"
      ],
      "metadata": {
        "colab": {
          "base_uri": "https://localhost:8080/"
        },
        "id": "IUH5ho6NDyTy",
        "outputId": "68c67328-87ca-49e3-b7d9-acd9452a40b7"
      },
      "execution_count": 2,
      "outputs": [
        {
          "output_type": "execute_result",
          "data": {
            "text/plain": [
              "array([[-1.22474487, -1.22474487],\n",
              "       [ 0.        ,  0.        ],\n",
              "       [ 1.22474487,  1.22474487]])"
            ]
          },
          "metadata": {},
          "execution_count": 2
        }
      ]
    },
    {
      "cell_type": "markdown",
      "source": [
        "# **5. Shuffling**\n",
        "\n",
        "🔹 Meaning:\n",
        "\n",
        "Shuffling means randomly rearranging the order of data samples.\n",
        "\n",
        "🔹 Why it’s done:\n",
        "\n",
        "To remove order bias (for example, data sorted by time or class)\n",
        "\n",
        "Ensures better generalization during model training\n",
        "\n",
        "If data isn’t shuffled, the model might learn patterns from order instead of content."
      ],
      "metadata": {
        "id": "8f7rWVR3D3Ya"
      }
    },
    {
      "cell_type": "code",
      "source": [
        "from sklearn.utils import shuffle\n",
        "import pandas as pd\n",
        "\n",
        "df = pd.DataFrame({'X':[1,2,3,4], 'Y':['A','B','C','D']})\n",
        "df_shuffled = shuffle(df, random_state=42)\n",
        "print(df_shuffled)\n"
      ],
      "metadata": {
        "colab": {
          "base_uri": "https://localhost:8080/"
        },
        "id": "87EZPEu2D5Sc",
        "outputId": "52f623e6-0a3a-4ef2-ac15-5572fa49791a"
      },
      "execution_count": 4,
      "outputs": [
        {
          "output_type": "stream",
          "name": "stdout",
          "text": [
            "   X  Y\n",
            "1  2  B\n",
            "3  4  D\n",
            "0  1  A\n",
            "2  3  C\n"
          ]
        }
      ]
    }
  ]
}